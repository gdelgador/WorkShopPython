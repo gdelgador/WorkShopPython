{
 "cells": [
  {
   "cell_type": "markdown",
   "metadata": {},
   "source": [
    "# INICIANDO EN LA AUTOMATIZACIÓN WEB\n",
    "-------------------------"
   ]
  },
  {
   "cell_type": "markdown",
   "metadata": {},
   "source": [
    "Una carácteristica importante de python es el hecho de que nos permite trabajar de manera fácil con el entorno web. Para ello tendrémos a nuestra disposición una seríe de librerías o paquetes que nos harán fácil esta tarea"
   ]
  },
  {
   "cell_type": "markdown",
   "metadata": {},
   "source": [
    "- <a href=\"https://requests.kennethreitz.org/en/master/\" >Requests</a>\n",
    "- <a href=\"https://www.crummy.com/software/BeautifulSoup/bs4/doc/\">Beautiful Soup</a>\n",
    "- **Selenium**\n",
    "- **Scrapy**\n",
    "- entre otros\n"
   ]
  },
  {
   "cell_type": "markdown",
   "metadata": {},
   "source": [
    "## 1. Python [Requests](https://requests.readthedocs.io/en/master/) - Solicitudes GET y POST\n",
    "------------------------------"
   ]
  },
  {
   "cell_type": "markdown",
   "metadata": {},
   "source": [
    "El módulo <code>request</code> es una librería de python que nos permitirá realizar todo todo de HTTP request sobre una página web.\n"
   ]
  },
  {
   "cell_type": "markdown",
   "metadata": {},
   "source": [
    "### 1.1 Instalación"
   ]
  },
  {
   "cell_type": "code",
   "execution_count": 1,
   "metadata": {},
   "outputs": [
    {
     "name": "stdout",
     "output_type": "stream",
     "text": [
      "Requirement already satisfied: requests in c:\\users\\gdelgadr\\anaconda3\\lib\\site-packages (2.24.0)\n",
      "Requirement already satisfied: certifi>=2017.4.17 in c:\\users\\gdelgadr\\anaconda3\\lib\\site-packages (from requests) (2020.6.20)\n",
      "Requirement already satisfied: idna<3,>=2.5 in c:\\users\\gdelgadr\\anaconda3\\lib\\site-packages (from requests) (2.10)\n",
      "Requirement already satisfied: chardet<4,>=3.0.2 in c:\\users\\gdelgadr\\anaconda3\\lib\\site-packages (from requests) (3.0.4)\n",
      "Requirement already satisfied: urllib3!=1.25.0,!=1.25.1,<1.26,>=1.21.1 in c:\\users\\gdelgadr\\anaconda3\\lib\\site-packages (from requests) (1.25.9)\n"
     ]
    }
   ],
   "source": [
    "# Instalación\n",
    "!pip install requests"
   ]
  },
  {
   "cell_type": "markdown",
   "metadata": {},
   "source": [
    "### 1.2 Realizando solicitudes GET"
   ]
  },
  {
   "cell_type": "markdown",
   "metadata": {},
   "source": [
    "Es bastante sencillo enviar una solicitud HTTP utilizando Requests. Empiece importando el módulo y luego haciendo la solicitud. Mira el ejemplo:"
   ]
  },
  {
   "cell_type": "code",
   "execution_count": 4,
   "metadata": {},
   "outputs": [],
   "source": [
    "import requests\n",
    "\n",
    "url = 'https://es.wikipedia.org/wiki/Anexo:Pa%C3%ADses'\n",
    "\n",
    "response = requests.get(url)"
   ]
  },
  {
   "cell_type": "markdown",
   "metadata": {},
   "source": [
    "El obejto <code>response</code> es el encargado de almacenar toda la información web concerniente al sitio web buscado"
   ]
  },
  {
   "cell_type": "markdown",
   "metadata": {},
   "source": [
    "### 1.3 Obteniendo status de conexion web"
   ]
  },
  {
   "cell_type": "markdown",
   "metadata": {},
   "source": [
    "El atributo <code>status_code</code> nos permitirá tener conocimiento si se establecio una correcta conexión a la página web."
   ]
  },
  {
   "cell_type": "code",
   "execution_count": 7,
   "metadata": {},
   "outputs": [
    {
     "data": {
      "text/plain": [
       "200"
      ]
     },
     "execution_count": 7,
     "metadata": {},
     "output_type": "execute_result"
    }
   ],
   "source": [
    "response.status_code"
   ]
  },
  {
   "cell_type": "markdown",
   "metadata": {},
   "source": [
    "### 1.4 Obteniendo contenido web de la página"
   ]
  },
  {
   "cell_type": "markdown",
   "metadata": {},
   "source": [
    "El método <code>content</code> nos permitirá acceder al contenido del sitio web"
   ]
  },
  {
   "cell_type": "code",
   "execution_count": 12,
   "metadata": {
    "scrolled": true
   },
   "outputs": [],
   "source": [
    "data = response.content"
   ]
  },
  {
   "cell_type": "code",
   "execution_count": 18,
   "metadata": {},
   "outputs": [
    {
     "data": {
      "text/plain": [
       "b'<!DOCTYPE html>\\n<html class=\"client-nojs\" lang=\"es\" dir=\"ltr\">\\n<head>\\n<meta charset=\"UTF-8\"/>\\n<title'"
      ]
     },
     "execution_count": 18,
     "metadata": {},
     "output_type": "execute_result"
    }
   ],
   "source": [
    "data[:100]"
   ]
  },
  {
   "cell_type": "markdown",
   "metadata": {},
   "source": [
    "### 1.5 Filtrando información"
   ]
  },
  {
   "cell_type": "markdown",
   "metadata": {},
   "source": [
    "La librería requests combinado con el módulo <code>scrapy</code> nos permitirá selecciona los datos que nos interesa de una página web "
   ]
  },
  {
   "cell_type": "code",
   "execution_count": 19,
   "metadata": {},
   "outputs": [],
   "source": [
    "# Importando librerías\n",
    "import requests\n",
    "from scrapy.selector import Selector\n"
   ]
  },
  {
   "cell_type": "code",
   "execution_count": 20,
   "metadata": {},
   "outputs": [],
   "source": [
    "def leer(html_path):\n",
    "    \"\"\"\n",
    "    Read html document\n",
    "    \n",
    "    Parameters\n",
    "    ----------\n",
    "    html_path : str\n",
    "    \"\"\"\n",
    "    with open(html_path) as f:\n",
    "        data = f.read()\n",
    "    return data"
   ]
  },
  {
   "cell_type": "code",
   "execution_count": 21,
   "metadata": {},
   "outputs": [
    {
     "name": "stdout",
     "output_type": "stream",
     "text": [
      "<html>\n",
      " <head>\n",
      "  <base href='http://example.com/' />\n",
      "  <title>Example website</title>\n",
      " </head>\n",
      " <body>\n",
      "  <div id='images'>\n",
      "   <a href='image1.html'>Name: My image 1 <br /><img src='image1_thumb.jpg' /></a>\n",
      "   <a href='image2.html'>Name: My image 2 <br /><img src='image2_thumb.jpg' /></a>\n",
      "   <a href='image3.html'>Name: My image 3 <br /><img src='image3_thumb.jpg' /></a>\n",
      "   <a href='image4.html'>Name: My image 4 <br /><img src='image4_thumb.jpg' /></a>\n",
      "   <a href='image5.html'>Name: My image 5 <br /><img src='image5_thumb.jpg' /></a>\n",
      "  </div>\n",
      "\n",
      "  <p id=\"p-example\">\n",
      "      Hello World!\n",
      "      Try <a href=\"www.example.com\">Click Here</a> Today!\n",
      "  </p>\n",
      "\n",
      " </body>\n",
      "</html>\n"
     ]
    }
   ],
   "source": [
    "html_path = './scripts/4.demo_web/selectores.html'\n",
    "# Cargamos documento html\n",
    "html_doc = leer(html_path)\n",
    "print(html_doc)"
   ]
  },
  {
   "cell_type": "code",
   "execution_count": 22,
   "metadata": {},
   "outputs": [],
   "source": [
    "response=Selector(text=html_doc)"
   ]
  },
  {
   "cell_type": "code",
   "execution_count": 23,
   "metadata": {},
   "outputs": [
    {
     "data": {
      "text/plain": [
       "['Name: My image 1 ',\n",
       " 'Name: My image 2 ',\n",
       " 'Name: My image 3 ',\n",
       " 'Name: My image 4 ',\n",
       " 'Name: My image 5 ']"
      ]
     },
     "execution_count": 23,
     "metadata": {},
     "output_type": "execute_result"
    }
   ],
   "source": [
    "response.css('div#images > a::text').getall()"
   ]
  },
  {
   "cell_type": "markdown",
   "metadata": {},
   "source": [
    "# 2. INICIANDO CON [SELENIUM](https://selenium-python.readthedocs.io/getting-started.html)\n",
    "-----------------------------"
   ]
  },
  {
   "cell_type": "markdown",
   "metadata": {},
   "source": [
    "Selenium es una <b>herramientas de testeo para el desarrollo de páginas web</b>. La cual es muy útil para estos fines ya que permite:\n",
    "- Automatización web.\n",
    "- Selección de campos mediante nombres ID, XPATH, etc.\n",
    "- Entre otros"
   ]
  },
  {
   "cell_type": "markdown",
   "metadata": {},
   "source": [
    "Selenium trabaja con diversos navegadores, tambien conocidos como navegadores sin cabecera como <a href=\"https://chromedriver.chromium.org/\">google chrome</a> y <a href=\"https://github.com/mozilla/geckodriver\">firefox.</a>"
   ]
  },
  {
   "cell_type": "markdown",
   "metadata": {},
   "source": [
    "El uso de selenium es muy simple y puede servir como un buen punto de partida para el desarrollo de extractores web."
   ]
  },
  {
   "cell_type": "markdown",
   "metadata": {},
   "source": [
    "Selenium puede utilizarse en las versiones Python 2.7 y 3.x. En general, el soporte de Selenium es muy extenso y proporciona enlaces para lenguajes como Java, C #, Ruby, Python, por supuesto, y JavaScript. La documentación oficial de Selenium es excelente y fácil de entender incluso si eres un principiante."
   ]
  },
  {
   "cell_type": "markdown",
   "metadata": {},
   "source": [
    "**Realizar web Scraping con Scrapy es 20 veces más rápido que utilizando Selenium**. Además, Scrapy consume mucha menos memoria y uso de CPU que Selenium.\n",
    "\n",
    "**Selenium solo debe usarse en casos en que la página sobre la que se requiera hacer web scraping tenga un alto contenido en javascript** el cual hace sumamente complicado scrapear mediante scrapy"
   ]
  },
  {
   "cell_type": "markdown",
   "metadata": {},
   "source": [
    "### Ejemplo Extración con selenium"
   ]
  },
  {
   "cell_type": "code",
   "execution_count": 4,
   "metadata": {},
   "outputs": [],
   "source": [
    "from selenium import webdriver\n",
    "from scrapy.selector import Selector"
   ]
  },
  {
   "cell_type": "code",
   "execution_count": 5,
   "metadata": {},
   "outputs": [],
   "source": [
    "# inicializando webdriver y página web\n",
    "driver = webdriver.Chrome(\"./drivers/chromedriver.exe\")\n",
    "url=\"https://es.wikipedia.org/wiki/Anexo:Pa%C3%ADses\"\n",
    "driver.get(url)"
   ]
  },
  {
   "cell_type": "markdown",
   "metadata": {},
   "source": [
    "Selenium posee un conjunto de elemtos para la realización de extracción de la data"
   ]
  },
  {
   "cell_type": "code",
   "execution_count": 6,
   "metadata": {},
   "outputs": [],
   "source": [
    "sel = Selector(text = driver.page_source)"
   ]
  },
  {
   "cell_type": "code",
   "execution_count": 7,
   "metadata": {},
   "outputs": [],
   "source": [
    "# selecionando tabla\n",
    "table = sel.xpath('//table[@class = \"wikitable plainlinks\"]')"
   ]
  },
  {
   "cell_type": "code",
   "execution_count": 8,
   "metadata": {},
   "outputs": [],
   "source": [
    "# columnas\n",
    "columns_name = table.css('th')"
   ]
  },
  {
   "cell_type": "code",
   "execution_count": 9,
   "metadata": {},
   "outputs": [
    {
     "name": "stdout",
     "output_type": "stream",
     "text": [
      "Territorio\n",
      "País reclamante\n",
      "Fecha\n",
      "Límites\n"
     ]
    }
   ],
   "source": [
    "# nombre de columnas\n",
    "for col in table.css('th'):\n",
    "    print(col.xpath('./text()').get().strip())"
   ]
  },
  {
   "cell_type": "code",
   "execution_count": 10,
   "metadata": {},
   "outputs": [],
   "source": [
    "# columnas\n",
    "filas = table.css('tr')"
   ]
  },
  {
   "cell_type": "code",
   "execution_count": 11,
   "metadata": {},
   "outputs": [],
   "source": [
    "lista = []\n",
    "for row in table.css('tr')[1:]:\n",
    "    dicx = {}\n",
    "    territorio = row.css('td')[1].css(' ::text').getall()\n",
    "    pais = row.css('td')[2].css('::text').getall()\n",
    "    year = row.css('td')[3].css('::text').get()\n",
    "    \n",
    "    dicx['territorio'] = \"\".join([cadena.strip() for cadena in territorio])\n",
    "    dicx['pais'] = \"\".join([cadena.strip() for cadena in pais])\n",
    "    dicx['year'] = \"\".join([cadena.strip() for cadena in year])\n",
    "    \n",
    "    lista.append(dicx)\n",
    "    "
   ]
  },
  {
   "cell_type": "code",
   "execution_count": 12,
   "metadata": {},
   "outputs": [
    {
     "data": {
      "text/plain": [
       "[{'territorio': 'Antártida Argentina(parte de laProvincia de Tierra del Fuego, Antártida e Islas del Atlántico Sur)',\n",
       "  'pais': 'Argentina',\n",
       "  'year': '1942'},\n",
       " {'territorio': 'Territorio Antártico Australiano',\n",
       "  'pais': 'Australia',\n",
       "  'year': '1933'},\n",
       " {'territorio': 'Territorio Chileno Antártico(parte de laProvincia de la Antártica Chilena)',\n",
       "  'pais': 'Chile',\n",
       "  'year': '1940'},\n",
       " {'territorio': 'Tierra Adelia(parte de lasTierras Australes y Antárticas Francesas)',\n",
       "  'pais': 'Francia',\n",
       "  'year': '1924'},\n",
       " {'territorio': 'Dependencia Ross', 'pais': 'Nueva Zelanda', 'year': '1923'},\n",
       " {'territorio': 'Tierra de la Reina Maud', 'pais': 'Noruega', 'year': '1939'},\n",
       " {'territorio': 'Isla Pedro I', 'pais': 'Noruega', 'year': '1929'},\n",
       " {'territorio': 'Territorio Antártico Británico',\n",
       "  'pais': 'Reino Unido',\n",
       "  'year': '1908'}]"
      ]
     },
     "execution_count": 12,
     "metadata": {},
     "output_type": "execute_result"
    }
   ],
   "source": [
    "lista"
   ]
  },
  {
   "cell_type": "code",
   "execution_count": 13,
   "metadata": {},
   "outputs": [],
   "source": [
    "# Al finalizar cerramos el navegador\n",
    "driver.quit()"
   ]
  },
  {
   "cell_type": "code",
   "execution_count": null,
   "metadata": {},
   "outputs": [],
   "source": []
  },
  {
   "cell_type": "code",
   "execution_count": null,
   "metadata": {},
   "outputs": [],
   "source": []
  },
  {
   "cell_type": "code",
   "execution_count": null,
   "metadata": {},
   "outputs": [],
   "source": []
  },
  {
   "cell_type": "code",
   "execution_count": null,
   "metadata": {},
   "outputs": [],
   "source": []
  }
 ],
 "metadata": {
  "kernelspec": {
   "display_name": "Python 3",
   "language": "python",
   "name": "python3"
  },
  "language_info": {
   "codemirror_mode": {
    "name": "ipython",
    "version": 3
   },
   "file_extension": ".py",
   "mimetype": "text/x-python",
   "name": "python",
   "nbconvert_exporter": "python",
   "pygments_lexer": "ipython3",
   "version": "3.8.3"
  }
 },
 "nbformat": 4,
 "nbformat_minor": 4
}
